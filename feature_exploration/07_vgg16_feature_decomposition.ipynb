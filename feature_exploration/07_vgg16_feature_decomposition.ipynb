{
 "cells": [
  {
   "cell_type": "code",
   "execution_count": 1,
   "metadata": {},
   "outputs": [],
   "source": [
    "import pickle\n",
    "import numpy as np\n",
    "import pandas as pd"
   ]
  },
  {
   "cell_type": "markdown",
   "metadata": {},
   "source": [
    "# Transform train & test with PCA"
   ]
  },
  {
   "cell_type": "code",
   "execution_count": 2,
   "metadata": {},
   "outputs": [],
   "source": [
    "with open('./train_img_features_vgg16/all.pkl', 'rb') as f:\n",
    "    vgg16_train = pickle.load(f)"
   ]
  },
  {
   "cell_type": "code",
   "execution_count": 3,
   "metadata": {},
   "outputs": [
    {
     "data": {
      "text/html": [
       "<div>\n",
       "<style>\n",
       "    .dataframe thead tr:only-child th {\n",
       "        text-align: right;\n",
       "    }\n",
       "\n",
       "    .dataframe thead th {\n",
       "        text-align: left;\n",
       "    }\n",
       "\n",
       "    .dataframe tbody tr th {\n",
       "        vertical-align: top;\n",
       "    }\n",
       "</style>\n",
       "<table border=\"1\" class=\"dataframe\">\n",
       "  <thead>\n",
       "    <tr style=\"text-align: right;\">\n",
       "      <th></th>\n",
       "      <th>0</th>\n",
       "      <th>1</th>\n",
       "      <th>2</th>\n",
       "      <th>3</th>\n",
       "      <th>4</th>\n",
       "      <th>5</th>\n",
       "      <th>6</th>\n",
       "      <th>7</th>\n",
       "      <th>8</th>\n",
       "      <th>9</th>\n",
       "      <th>...</th>\n",
       "      <th>503</th>\n",
       "      <th>504</th>\n",
       "      <th>505</th>\n",
       "      <th>506</th>\n",
       "      <th>507</th>\n",
       "      <th>508</th>\n",
       "      <th>509</th>\n",
       "      <th>510</th>\n",
       "      <th>511</th>\n",
       "      <th>image</th>\n",
       "    </tr>\n",
       "  </thead>\n",
       "  <tbody>\n",
       "    <tr>\n",
       "      <th>0</th>\n",
       "      <td>2.071778</td>\n",
       "      <td>0.966603</td>\n",
       "      <td>0.080144</td>\n",
       "      <td>0.348970</td>\n",
       "      <td>1.774445</td>\n",
       "      <td>0.033766</td>\n",
       "      <td>8.325365</td>\n",
       "      <td>0.159167</td>\n",
       "      <td>0.000000</td>\n",
       "      <td>0.629779</td>\n",
       "      <td>...</td>\n",
       "      <td>0.746571</td>\n",
       "      <td>0.000000</td>\n",
       "      <td>0.000000</td>\n",
       "      <td>1.108570</td>\n",
       "      <td>0.683771</td>\n",
       "      <td>12.548397</td>\n",
       "      <td>1.767284</td>\n",
       "      <td>2.034834</td>\n",
       "      <td>0.000000</td>\n",
       "      <td>0b8eed559572527d972b4d959e8f4c107fdd9bc19cca04...</td>\n",
       "    </tr>\n",
       "    <tr>\n",
       "      <th>1</th>\n",
       "      <td>0.293083</td>\n",
       "      <td>0.728179</td>\n",
       "      <td>0.613891</td>\n",
       "      <td>4.614189</td>\n",
       "      <td>0.000000</td>\n",
       "      <td>0.600418</td>\n",
       "      <td>0.000000</td>\n",
       "      <td>0.076312</td>\n",
       "      <td>0.000000</td>\n",
       "      <td>36.775433</td>\n",
       "      <td>...</td>\n",
       "      <td>0.470453</td>\n",
       "      <td>2.326848</td>\n",
       "      <td>2.878926</td>\n",
       "      <td>0.000000</td>\n",
       "      <td>1.613942</td>\n",
       "      <td>1.857124</td>\n",
       "      <td>2.819040</td>\n",
       "      <td>7.786257</td>\n",
       "      <td>0.000000</td>\n",
       "      <td>856e74b8c46edcf0c0e23444eab019bfda63687bb70a34...</td>\n",
       "    </tr>\n",
       "    <tr>\n",
       "      <th>2</th>\n",
       "      <td>2.589200</td>\n",
       "      <td>0.000000</td>\n",
       "      <td>0.000000</td>\n",
       "      <td>0.000000</td>\n",
       "      <td>0.082730</td>\n",
       "      <td>0.056360</td>\n",
       "      <td>10.737248</td>\n",
       "      <td>0.572195</td>\n",
       "      <td>0.487173</td>\n",
       "      <td>0.000000</td>\n",
       "      <td>...</td>\n",
       "      <td>0.586206</td>\n",
       "      <td>1.244672</td>\n",
       "      <td>0.000000</td>\n",
       "      <td>5.338568</td>\n",
       "      <td>1.702073</td>\n",
       "      <td>8.967209</td>\n",
       "      <td>1.560929</td>\n",
       "      <td>1.679632</td>\n",
       "      <td>0.666193</td>\n",
       "      <td>122d198cf11ab32d2346bff455d6702f1ea519df957cea...</td>\n",
       "    </tr>\n",
       "    <tr>\n",
       "      <th>3</th>\n",
       "      <td>1.843525</td>\n",
       "      <td>0.000000</td>\n",
       "      <td>1.428573</td>\n",
       "      <td>0.450436</td>\n",
       "      <td>1.279963</td>\n",
       "      <td>0.580583</td>\n",
       "      <td>3.226904</td>\n",
       "      <td>0.807807</td>\n",
       "      <td>0.287097</td>\n",
       "      <td>2.233432</td>\n",
       "      <td>...</td>\n",
       "      <td>18.999287</td>\n",
       "      <td>0.066088</td>\n",
       "      <td>8.471782</td>\n",
       "      <td>13.617798</td>\n",
       "      <td>5.301826</td>\n",
       "      <td>21.503891</td>\n",
       "      <td>0.470046</td>\n",
       "      <td>0.757860</td>\n",
       "      <td>0.617835</td>\n",
       "      <td>2809fd6afd6d3cae4dd4ad93a7f905a0db32292f4df4b3...</td>\n",
       "    </tr>\n",
       "    <tr>\n",
       "      <th>4</th>\n",
       "      <td>0.521299</td>\n",
       "      <td>6.416123</td>\n",
       "      <td>0.000000</td>\n",
       "      <td>0.000000</td>\n",
       "      <td>2.591257</td>\n",
       "      <td>1.911116</td>\n",
       "      <td>0.140012</td>\n",
       "      <td>5.897140</td>\n",
       "      <td>8.751804</td>\n",
       "      <td>0.343670</td>\n",
       "      <td>...</td>\n",
       "      <td>3.445264</td>\n",
       "      <td>4.880981</td>\n",
       "      <td>2.962272</td>\n",
       "      <td>5.038907</td>\n",
       "      <td>8.203376</td>\n",
       "      <td>0.272855</td>\n",
       "      <td>0.247850</td>\n",
       "      <td>7.552677</td>\n",
       "      <td>0.000000</td>\n",
       "      <td>5ef4a19afe4ad593464931734ff43c1112cf94c6bdb459...</td>\n",
       "    </tr>\n",
       "  </tbody>\n",
       "</table>\n",
       "<p>5 rows × 513 columns</p>\n",
       "</div>"
      ],
      "text/plain": [
       "          0         1         2         3         4         5          6  \\\n",
       "0  2.071778  0.966603  0.080144  0.348970  1.774445  0.033766   8.325365   \n",
       "1  0.293083  0.728179  0.613891  4.614189  0.000000  0.600418   0.000000   \n",
       "2  2.589200  0.000000  0.000000  0.000000  0.082730  0.056360  10.737248   \n",
       "3  1.843525  0.000000  1.428573  0.450436  1.279963  0.580583   3.226904   \n",
       "4  0.521299  6.416123  0.000000  0.000000  2.591257  1.911116   0.140012   \n",
       "\n",
       "          7         8          9  \\\n",
       "0  0.159167  0.000000   0.629779   \n",
       "1  0.076312  0.000000  36.775433   \n",
       "2  0.572195  0.487173   0.000000   \n",
       "3  0.807807  0.287097   2.233432   \n",
       "4  5.897140  8.751804   0.343670   \n",
       "\n",
       "                         ...                                503       504  \\\n",
       "0                        ...                           0.746571  0.000000   \n",
       "1                        ...                           0.470453  2.326848   \n",
       "2                        ...                           0.586206  1.244672   \n",
       "3                        ...                          18.999287  0.066088   \n",
       "4                        ...                           3.445264  4.880981   \n",
       "\n",
       "        505        506       507        508       509       510       511  \\\n",
       "0  0.000000   1.108570  0.683771  12.548397  1.767284  2.034834  0.000000   \n",
       "1  2.878926   0.000000  1.613942   1.857124  2.819040  7.786257  0.000000   \n",
       "2  0.000000   5.338568  1.702073   8.967209  1.560929  1.679632  0.666193   \n",
       "3  8.471782  13.617798  5.301826  21.503891  0.470046  0.757860  0.617835   \n",
       "4  2.962272   5.038907  8.203376   0.272855  0.247850  7.552677  0.000000   \n",
       "\n",
       "                                               image  \n",
       "0  0b8eed559572527d972b4d959e8f4c107fdd9bc19cca04...  \n",
       "1  856e74b8c46edcf0c0e23444eab019bfda63687bb70a34...  \n",
       "2  122d198cf11ab32d2346bff455d6702f1ea519df957cea...  \n",
       "3  2809fd6afd6d3cae4dd4ad93a7f905a0db32292f4df4b3...  \n",
       "4  5ef4a19afe4ad593464931734ff43c1112cf94c6bdb459...  \n",
       "\n",
       "[5 rows x 513 columns]"
      ]
     },
     "execution_count": 3,
     "metadata": {},
     "output_type": "execute_result"
    }
   ],
   "source": [
    "vgg16_train.head()"
   ]
  },
  {
   "cell_type": "code",
   "execution_count": 4,
   "metadata": {},
   "outputs": [],
   "source": [
    "train_hashes = vgg16_train['image']\n",
    "vgg16_train = vgg16_train.drop('image', axis=1).as_matrix()"
   ]
  },
  {
   "cell_type": "code",
   "execution_count": 5,
   "metadata": {},
   "outputs": [],
   "source": [
    "with open('./test_img_features_vgg16/all.pkl', 'rb') as f:\n",
    "    vgg16_test = pickle.load(f)"
   ]
  },
  {
   "cell_type": "code",
   "execution_count": 6,
   "metadata": {},
   "outputs": [],
   "source": [
    "test_hashes = vgg16_test['image']\n",
    "vgg16_test = vgg16_test.drop('image', axis=1).as_matrix()"
   ]
  },
  {
   "cell_type": "code",
   "execution_count": 7,
   "metadata": {},
   "outputs": [
    {
     "data": {
      "text/plain": [
       "(1390832, 512)"
      ]
     },
     "execution_count": 7,
     "metadata": {},
     "output_type": "execute_result"
    }
   ],
   "source": [
    "vgg16_train.shape"
   ]
  },
  {
   "cell_type": "code",
   "execution_count": 8,
   "metadata": {},
   "outputs": [
    {
     "data": {
      "text/plain": [
       "(465829, 512)"
      ]
     },
     "execution_count": 8,
     "metadata": {},
     "output_type": "execute_result"
    }
   ],
   "source": [
    "vgg16_test.shape"
   ]
  },
  {
   "cell_type": "code",
   "execution_count": 9,
   "metadata": {},
   "outputs": [],
   "source": [
    "vgg16_train = np.vstack((vgg16_train, vgg16_test))"
   ]
  },
  {
   "cell_type": "code",
   "execution_count": 10,
   "metadata": {},
   "outputs": [],
   "source": [
    "del vgg16_test"
   ]
  },
  {
   "cell_type": "code",
   "execution_count": 11,
   "metadata": {},
   "outputs": [],
   "source": [
    "vgg16_train_test = vgg16_train"
   ]
  },
  {
   "cell_type": "code",
   "execution_count": 12,
   "metadata": {},
   "outputs": [],
   "source": [
    "del vgg16_train"
   ]
  },
  {
   "cell_type": "code",
   "execution_count": 13,
   "metadata": {},
   "outputs": [],
   "source": [
    "from sklearn.decomposition import PCA"
   ]
  },
  {
   "cell_type": "code",
   "execution_count": 14,
   "metadata": {},
   "outputs": [],
   "source": [
    "pca = PCA(n_components=100)"
   ]
  },
  {
   "cell_type": "code",
   "execution_count": 15,
   "metadata": {},
   "outputs": [],
   "source": [
    "vgg16_train_test_pca = pca.fit_transform(vgg16_train_test)"
   ]
  },
  {
   "cell_type": "code",
   "execution_count": 16,
   "metadata": {},
   "outputs": [
    {
     "data": {
      "text/plain": [
       "(1856661, 100)"
      ]
     },
     "execution_count": 16,
     "metadata": {},
     "output_type": "execute_result"
    }
   ],
   "source": [
    "vgg16_train_test_pca.shape"
   ]
  },
  {
   "cell_type": "code",
   "execution_count": 17,
   "metadata": {},
   "outputs": [],
   "source": [
    "vgg16_test_pca = vgg16_train_test_pca[-465829:]"
   ]
  },
  {
   "cell_type": "code",
   "execution_count": 18,
   "metadata": {},
   "outputs": [
    {
     "data": {
      "text/plain": [
       "(465829, 100)"
      ]
     },
     "execution_count": 18,
     "metadata": {},
     "output_type": "execute_result"
    }
   ],
   "source": [
    "vgg16_test_pca.shape"
   ]
  },
  {
   "cell_type": "code",
   "execution_count": 19,
   "metadata": {},
   "outputs": [],
   "source": [
    "vgg16_train_pca = vgg16_train_test_pca"
   ]
  },
  {
   "cell_type": "code",
   "execution_count": 20,
   "metadata": {},
   "outputs": [],
   "source": [
    "del vgg16_train_test_pca"
   ]
  },
  {
   "cell_type": "code",
   "execution_count": 21,
   "metadata": {},
   "outputs": [],
   "source": [
    "vgg16_train_pca = vgg16_train_pca[:1390832]"
   ]
  },
  {
   "cell_type": "code",
   "execution_count": 22,
   "metadata": {},
   "outputs": [
    {
     "data": {
      "text/plain": [
       "(1390832, 100)"
      ]
     },
     "execution_count": 22,
     "metadata": {},
     "output_type": "execute_result"
    }
   ],
   "source": [
    "vgg16_train_pca.shape"
   ]
  },
  {
   "cell_type": "code",
   "execution_count": 23,
   "metadata": {},
   "outputs": [],
   "source": [
    "vgg16_train_pca = pd.DataFrame(vgg16_train_pca)"
   ]
  },
  {
   "cell_type": "code",
   "execution_count": 24,
   "metadata": {},
   "outputs": [],
   "source": [
    "vgg16_train_pca['image'] = train_hashes"
   ]
  },
  {
   "cell_type": "code",
   "execution_count": 25,
   "metadata": {},
   "outputs": [],
   "source": [
    "with open('./train_img_features_vgg16/pca100.pkl', 'wb') as f:\n",
    "    pickle.dump(vgg16_train_pca, f)"
   ]
  },
  {
   "cell_type": "code",
   "execution_count": 26,
   "metadata": {},
   "outputs": [],
   "source": [
    "del vgg16_train_pca"
   ]
  },
  {
   "cell_type": "code",
   "execution_count": null,
   "metadata": {},
   "outputs": [],
   "source": []
  },
  {
   "cell_type": "code",
   "execution_count": 27,
   "metadata": {},
   "outputs": [],
   "source": [
    "vgg16_test_pca = pd.DataFrame(vgg16_test_pca)"
   ]
  },
  {
   "cell_type": "code",
   "execution_count": 29,
   "metadata": {},
   "outputs": [],
   "source": [
    "vgg16_test_pca['image'] = test_hashes"
   ]
  },
  {
   "cell_type": "code",
   "execution_count": 31,
   "metadata": {},
   "outputs": [],
   "source": [
    "with open('./test_img_features_vgg16/pca100.pkl', 'wb') as f:\n",
    "    pickle.dump(vgg16_test_pca, f)"
   ]
  },
  {
   "cell_type": "code",
   "execution_count": null,
   "metadata": {},
   "outputs": [],
   "source": []
  },
  {
   "cell_type": "code",
   "execution_count": null,
   "metadata": {},
   "outputs": [],
   "source": []
  },
  {
   "cell_type": "code",
   "execution_count": null,
   "metadata": {},
   "outputs": [],
   "source": []
  },
  {
   "cell_type": "code",
   "execution_count": null,
   "metadata": {},
   "outputs": [],
   "source": []
  },
  {
   "cell_type": "code",
   "execution_count": null,
   "metadata": {},
   "outputs": [],
   "source": []
  },
  {
   "cell_type": "code",
   "execution_count": null,
   "metadata": {},
   "outputs": [],
   "source": []
  },
  {
   "cell_type": "code",
   "execution_count": null,
   "metadata": {},
   "outputs": [],
   "source": []
  },
  {
   "cell_type": "code",
   "execution_count": null,
   "metadata": {},
   "outputs": [],
   "source": []
  }
 ],
 "metadata": {
  "kernelspec": {
   "display_name": "Python 3",
   "language": "python",
   "name": "python3"
  },
  "language_info": {
   "codemirror_mode": {
    "name": "ipython",
    "version": 3
   },
   "file_extension": ".py",
   "mimetype": "text/x-python",
   "name": "python",
   "nbconvert_exporter": "python",
   "pygments_lexer": "ipython3",
   "version": "3.6.1"
  }
 },
 "nbformat": 4,
 "nbformat_minor": 2
}
