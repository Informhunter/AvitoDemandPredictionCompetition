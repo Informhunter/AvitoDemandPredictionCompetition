{
 "cells": [
  {
   "cell_type": "code",
   "execution_count": 1,
   "metadata": {},
   "outputs": [],
   "source": [
    "import pickle\n",
    "import pandas as pd\n",
    "from tqdm import tqdm\n",
    "import numpy as np"
   ]
  },
  {
   "cell_type": "markdown",
   "metadata": {},
   "source": [
    "# Train"
   ]
  },
  {
   "cell_type": "code",
   "execution_count": 2,
   "metadata": {},
   "outputs": [],
   "source": [
    "with open('img_features_vgg16/train/train_hashes.pkl', 'rb') as f:\n",
    "    hashes = pickle.load(f)"
   ]
  },
  {
   "cell_type": "code",
   "execution_count": 3,
   "metadata": {},
   "outputs": [
    {
     "data": {
      "text/plain": [
       "1390832"
      ]
     },
     "execution_count": 3,
     "metadata": {},
     "output_type": "execute_result"
    }
   ],
   "source": [
    "len(hashes)"
   ]
  },
  {
   "cell_type": "code",
   "execution_count": null,
   "metadata": {},
   "outputs": [],
   "source": []
  },
  {
   "cell_type": "code",
   "execution_count": 4,
   "metadata": {},
   "outputs": [
    {
     "name": "stderr",
     "output_type": "stream",
     "text": [
      "100%|█████████████████████████████████████████████████████████████████████████████| 1391/1391 [00:11<00:00, 118.02it/s]\n"
     ]
    }
   ],
   "source": [
    "batches = []\n",
    "for i in tqdm(range(1, 1391 + 1)):\n",
    "    with open('./img_features_vgg16/train/{}.pkl'.format(i), 'rb') as f:\n",
    "        batches.append(pickle.load(f))"
   ]
  },
  {
   "cell_type": "code",
   "execution_count": 5,
   "metadata": {},
   "outputs": [],
   "source": [
    "batches = np.vstack(batches)"
   ]
  },
  {
   "cell_type": "code",
   "execution_count": 6,
   "metadata": {},
   "outputs": [
    {
     "data": {
      "text/plain": [
       "(1390832, 512)"
      ]
     },
     "execution_count": 6,
     "metadata": {},
     "output_type": "execute_result"
    }
   ],
   "source": [
    "batches.shape"
   ]
  },
  {
   "cell_type": "code",
   "execution_count": 7,
   "metadata": {},
   "outputs": [],
   "source": [
    "batches = pd.DataFrame(batches)"
   ]
  },
  {
   "cell_type": "code",
   "execution_count": 8,
   "metadata": {},
   "outputs": [],
   "source": [
    "batches['image'] = hashes"
   ]
  },
  {
   "cell_type": "code",
   "execution_count": 9,
   "metadata": {},
   "outputs": [
    {
     "data": {
      "text/html": [
       "<div>\n",
       "<style>\n",
       "    .dataframe thead tr:only-child th {\n",
       "        text-align: right;\n",
       "    }\n",
       "\n",
       "    .dataframe thead th {\n",
       "        text-align: left;\n",
       "    }\n",
       "\n",
       "    .dataframe tbody tr th {\n",
       "        vertical-align: top;\n",
       "    }\n",
       "</style>\n",
       "<table border=\"1\" class=\"dataframe\">\n",
       "  <thead>\n",
       "    <tr style=\"text-align: right;\">\n",
       "      <th></th>\n",
       "      <th>0</th>\n",
       "      <th>1</th>\n",
       "      <th>2</th>\n",
       "      <th>3</th>\n",
       "      <th>4</th>\n",
       "      <th>5</th>\n",
       "      <th>6</th>\n",
       "      <th>7</th>\n",
       "      <th>8</th>\n",
       "      <th>9</th>\n",
       "      <th>...</th>\n",
       "      <th>503</th>\n",
       "      <th>504</th>\n",
       "      <th>505</th>\n",
       "      <th>506</th>\n",
       "      <th>507</th>\n",
       "      <th>508</th>\n",
       "      <th>509</th>\n",
       "      <th>510</th>\n",
       "      <th>511</th>\n",
       "      <th>image</th>\n",
       "    </tr>\n",
       "  </thead>\n",
       "  <tbody>\n",
       "    <tr>\n",
       "      <th>1390827</th>\n",
       "      <td>0.175759</td>\n",
       "      <td>0.000000</td>\n",
       "      <td>0.027513</td>\n",
       "      <td>0.000000</td>\n",
       "      <td>0.084190</td>\n",
       "      <td>0.000000</td>\n",
       "      <td>0.557883</td>\n",
       "      <td>0.036186</td>\n",
       "      <td>0.000000</td>\n",
       "      <td>0.000000</td>\n",
       "      <td>...</td>\n",
       "      <td>0.291056</td>\n",
       "      <td>0.221709</td>\n",
       "      <td>0.071135</td>\n",
       "      <td>0.010526</td>\n",
       "      <td>0.210198</td>\n",
       "      <td>0.264693</td>\n",
       "      <td>0.010448</td>\n",
       "      <td>0.449933</td>\n",
       "      <td>0.000000</td>\n",
       "      <td>bde3463ccb3e354b8c60d0814ffcec2257fb5b04e64c82...</td>\n",
       "    </tr>\n",
       "    <tr>\n",
       "      <th>1390828</th>\n",
       "      <td>0.196076</td>\n",
       "      <td>0.000000</td>\n",
       "      <td>0.013977</td>\n",
       "      <td>0.069662</td>\n",
       "      <td>0.033202</td>\n",
       "      <td>0.027661</td>\n",
       "      <td>0.121534</td>\n",
       "      <td>0.081344</td>\n",
       "      <td>0.000000</td>\n",
       "      <td>0.092759</td>\n",
       "      <td>...</td>\n",
       "      <td>0.267232</td>\n",
       "      <td>0.078108</td>\n",
       "      <td>0.068642</td>\n",
       "      <td>0.120154</td>\n",
       "      <td>0.368399</td>\n",
       "      <td>0.458742</td>\n",
       "      <td>0.037856</td>\n",
       "      <td>0.415792</td>\n",
       "      <td>0.002236</td>\n",
       "      <td>5aedd8192b2818aa4aca2c98ac4a84cad52cd4aa93265f...</td>\n",
       "    </tr>\n",
       "    <tr>\n",
       "      <th>1390829</th>\n",
       "      <td>0.147131</td>\n",
       "      <td>0.098382</td>\n",
       "      <td>0.187569</td>\n",
       "      <td>0.041178</td>\n",
       "      <td>0.019950</td>\n",
       "      <td>0.003167</td>\n",
       "      <td>0.049097</td>\n",
       "      <td>0.073455</td>\n",
       "      <td>0.012852</td>\n",
       "      <td>0.006472</td>\n",
       "      <td>...</td>\n",
       "      <td>0.066353</td>\n",
       "      <td>0.090313</td>\n",
       "      <td>0.224640</td>\n",
       "      <td>0.571612</td>\n",
       "      <td>0.277965</td>\n",
       "      <td>0.091170</td>\n",
       "      <td>0.000000</td>\n",
       "      <td>0.363906</td>\n",
       "      <td>0.000000</td>\n",
       "      <td>4cb04d58c19662315b66554c1a04a46cafd85dead42608...</td>\n",
       "    </tr>\n",
       "    <tr>\n",
       "      <th>1390830</th>\n",
       "      <td>0.046697</td>\n",
       "      <td>0.000000</td>\n",
       "      <td>0.129309</td>\n",
       "      <td>0.085746</td>\n",
       "      <td>0.035146</td>\n",
       "      <td>0.058148</td>\n",
       "      <td>0.312390</td>\n",
       "      <td>0.116461</td>\n",
       "      <td>0.000000</td>\n",
       "      <td>0.313031</td>\n",
       "      <td>...</td>\n",
       "      <td>0.471814</td>\n",
       "      <td>0.025896</td>\n",
       "      <td>0.037646</td>\n",
       "      <td>0.084211</td>\n",
       "      <td>0.138564</td>\n",
       "      <td>0.219235</td>\n",
       "      <td>0.231820</td>\n",
       "      <td>0.380656</td>\n",
       "      <td>0.000000</td>\n",
       "      <td>c507faefc2c8304e018b38d556c002f1c8fce33eee19df...</td>\n",
       "    </tr>\n",
       "    <tr>\n",
       "      <th>1390831</th>\n",
       "      <td>0.201533</td>\n",
       "      <td>0.079465</td>\n",
       "      <td>0.203268</td>\n",
       "      <td>0.050783</td>\n",
       "      <td>0.164207</td>\n",
       "      <td>0.043364</td>\n",
       "      <td>0.135937</td>\n",
       "      <td>0.253768</td>\n",
       "      <td>0.006182</td>\n",
       "      <td>0.097801</td>\n",
       "      <td>...</td>\n",
       "      <td>0.395536</td>\n",
       "      <td>0.207241</td>\n",
       "      <td>0.014671</td>\n",
       "      <td>0.148518</td>\n",
       "      <td>0.277792</td>\n",
       "      <td>0.153177</td>\n",
       "      <td>0.020837</td>\n",
       "      <td>0.381077</td>\n",
       "      <td>0.006875</td>\n",
       "      <td>df69aef3e2bfa10ba3d73cbb793705f0138936b4d3e592...</td>\n",
       "    </tr>\n",
       "  </tbody>\n",
       "</table>\n",
       "<p>5 rows × 513 columns</p>\n",
       "</div>"
      ],
      "text/plain": [
       "                0         1         2         3         4         5         6  \\\n",
       "1390827  0.175759  0.000000  0.027513  0.000000  0.084190  0.000000  0.557883   \n",
       "1390828  0.196076  0.000000  0.013977  0.069662  0.033202  0.027661  0.121534   \n",
       "1390829  0.147131  0.098382  0.187569  0.041178  0.019950  0.003167  0.049097   \n",
       "1390830  0.046697  0.000000  0.129309  0.085746  0.035146  0.058148  0.312390   \n",
       "1390831  0.201533  0.079465  0.203268  0.050783  0.164207  0.043364  0.135937   \n",
       "\n",
       "                7         8         9  \\\n",
       "1390827  0.036186  0.000000  0.000000   \n",
       "1390828  0.081344  0.000000  0.092759   \n",
       "1390829  0.073455  0.012852  0.006472   \n",
       "1390830  0.116461  0.000000  0.313031   \n",
       "1390831  0.253768  0.006182  0.097801   \n",
       "\n",
       "                               ...                               503  \\\n",
       "1390827                        ...                          0.291056   \n",
       "1390828                        ...                          0.267232   \n",
       "1390829                        ...                          0.066353   \n",
       "1390830                        ...                          0.471814   \n",
       "1390831                        ...                          0.395536   \n",
       "\n",
       "              504       505       506       507       508       509       510  \\\n",
       "1390827  0.221709  0.071135  0.010526  0.210198  0.264693  0.010448  0.449933   \n",
       "1390828  0.078108  0.068642  0.120154  0.368399  0.458742  0.037856  0.415792   \n",
       "1390829  0.090313  0.224640  0.571612  0.277965  0.091170  0.000000  0.363906   \n",
       "1390830  0.025896  0.037646  0.084211  0.138564  0.219235  0.231820  0.380656   \n",
       "1390831  0.207241  0.014671  0.148518  0.277792  0.153177  0.020837  0.381077   \n",
       "\n",
       "              511                                              image  \n",
       "1390827  0.000000  bde3463ccb3e354b8c60d0814ffcec2257fb5b04e64c82...  \n",
       "1390828  0.002236  5aedd8192b2818aa4aca2c98ac4a84cad52cd4aa93265f...  \n",
       "1390829  0.000000  4cb04d58c19662315b66554c1a04a46cafd85dead42608...  \n",
       "1390830  0.000000  c507faefc2c8304e018b38d556c002f1c8fce33eee19df...  \n",
       "1390831  0.006875  df69aef3e2bfa10ba3d73cbb793705f0138936b4d3e592...  \n",
       "\n",
       "[5 rows x 513 columns]"
      ]
     },
     "execution_count": 9,
     "metadata": {},
     "output_type": "execute_result"
    }
   ],
   "source": [
    "batches.tail()"
   ]
  },
  {
   "cell_type": "code",
   "execution_count": 10,
   "metadata": {},
   "outputs": [],
   "source": [
    "from zipfile import ZipFile"
   ]
  },
  {
   "cell_type": "code",
   "execution_count": 11,
   "metadata": {},
   "outputs": [],
   "source": [
    "with ZipFile('../data/train.csv.zip') as z:\n",
    "    with z.open('train.csv') as f:\n",
    "        train_df = pd.read_csv(f)"
   ]
  },
  {
   "cell_type": "code",
   "execution_count": 12,
   "metadata": {},
   "outputs": [],
   "source": [
    "vggtrain = pd.merge(train_df, batches, 'left', on='image', copy=False, sort=False)\n",
    "vggtrain = vggtrain[list(range(512))]\n",
    "vggtrain.fillna(0, inplace=True)"
   ]
  },
  {
   "cell_type": "code",
   "execution_count": 13,
   "metadata": {},
   "outputs": [],
   "source": [
    "del train_df"
   ]
  },
  {
   "cell_type": "code",
   "execution_count": 15,
   "metadata": {},
   "outputs": [],
   "source": [
    "vggtrain = vggtrain.as_matrix()"
   ]
  },
  {
   "cell_type": "code",
   "execution_count": 16,
   "metadata": {},
   "outputs": [
    {
     "data": {
      "text/plain": [
       "0"
      ]
     },
     "execution_count": 16,
     "metadata": {},
     "output_type": "execute_result"
    }
   ],
   "source": [
    "import gc\n",
    "gc.collect()"
   ]
  },
  {
   "cell_type": "code",
   "execution_count": 17,
   "metadata": {},
   "outputs": [],
   "source": [
    "from scipy import sparse"
   ]
  },
  {
   "cell_type": "code",
   "execution_count": 18,
   "metadata": {},
   "outputs": [],
   "source": [
    "vggtrain = sparse.csr_matrix(vggtrain)"
   ]
  },
  {
   "cell_type": "code",
   "execution_count": 19,
   "metadata": {},
   "outputs": [
    {
     "data": {
      "text/plain": [
       "(1503424, 512)"
      ]
     },
     "execution_count": 19,
     "metadata": {},
     "output_type": "execute_result"
    }
   ],
   "source": [
    "vggtrain.shape"
   ]
  },
  {
   "cell_type": "code",
   "execution_count": 20,
   "metadata": {},
   "outputs": [],
   "source": [
    "sparse.save_npz('./img_features/train/vgg16_512.npz', vggtrain)"
   ]
  },
  {
   "cell_type": "code",
   "execution_count": null,
   "metadata": {},
   "outputs": [],
   "source": []
  },
  {
   "cell_type": "markdown",
   "metadata": {},
   "source": [
    "# Test"
   ]
  },
  {
   "cell_type": "code",
   "execution_count": 2,
   "metadata": {},
   "outputs": [],
   "source": [
    "with open('./img_features_vgg16/test/test_hashes.pkl', 'rb') as f:\n",
    "    hashes = pickle.load(f)"
   ]
  },
  {
   "cell_type": "code",
   "execution_count": 3,
   "metadata": {},
   "outputs": [
    {
     "data": {
      "text/plain": [
       "465829"
      ]
     },
     "execution_count": 3,
     "metadata": {},
     "output_type": "execute_result"
    }
   ],
   "source": [
    "len(hashes)"
   ]
  },
  {
   "cell_type": "code",
   "execution_count": 5,
   "metadata": {},
   "outputs": [
    {
     "name": "stderr",
     "output_type": "stream",
     "text": [
      "100%|███████████████████████████████████████████████████████████████████████████████| 466/466 [00:02<00:00, 219.27it/s]\n"
     ]
    }
   ],
   "source": [
    "batches = []\n",
    "for i in tqdm(range(1, 467)):\n",
    "    with open('./img_features_vgg16/test/{}.pkl'.format(i), 'rb') as f:\n",
    "        batches.append(pickle.load(f))"
   ]
  },
  {
   "cell_type": "code",
   "execution_count": 6,
   "metadata": {},
   "outputs": [],
   "source": [
    "batches = np.vstack(batches)"
   ]
  },
  {
   "cell_type": "code",
   "execution_count": 7,
   "metadata": {},
   "outputs": [
    {
     "data": {
      "text/plain": [
       "(465829, 512)"
      ]
     },
     "execution_count": 7,
     "metadata": {},
     "output_type": "execute_result"
    }
   ],
   "source": [
    "batches.shape"
   ]
  },
  {
   "cell_type": "code",
   "execution_count": 8,
   "metadata": {},
   "outputs": [],
   "source": [
    "batches = pd.DataFrame(batches)"
   ]
  },
  {
   "cell_type": "code",
   "execution_count": 9,
   "metadata": {},
   "outputs": [],
   "source": [
    "batches['image'] = hashes"
   ]
  },
  {
   "cell_type": "code",
   "execution_count": 10,
   "metadata": {},
   "outputs": [
    {
     "data": {
      "text/html": [
       "<div>\n",
       "<style>\n",
       "    .dataframe thead tr:only-child th {\n",
       "        text-align: right;\n",
       "    }\n",
       "\n",
       "    .dataframe thead th {\n",
       "        text-align: left;\n",
       "    }\n",
       "\n",
       "    .dataframe tbody tr th {\n",
       "        vertical-align: top;\n",
       "    }\n",
       "</style>\n",
       "<table border=\"1\" class=\"dataframe\">\n",
       "  <thead>\n",
       "    <tr style=\"text-align: right;\">\n",
       "      <th></th>\n",
       "      <th>0</th>\n",
       "      <th>1</th>\n",
       "      <th>2</th>\n",
       "      <th>3</th>\n",
       "      <th>4</th>\n",
       "      <th>5</th>\n",
       "      <th>6</th>\n",
       "      <th>7</th>\n",
       "      <th>8</th>\n",
       "      <th>9</th>\n",
       "      <th>...</th>\n",
       "      <th>503</th>\n",
       "      <th>504</th>\n",
       "      <th>505</th>\n",
       "      <th>506</th>\n",
       "      <th>507</th>\n",
       "      <th>508</th>\n",
       "      <th>509</th>\n",
       "      <th>510</th>\n",
       "      <th>511</th>\n",
       "      <th>image</th>\n",
       "    </tr>\n",
       "  </thead>\n",
       "  <tbody>\n",
       "    <tr>\n",
       "      <th>0</th>\n",
       "      <td>0.300611</td>\n",
       "      <td>0.000261</td>\n",
       "      <td>0.352446</td>\n",
       "      <td>0.190885</td>\n",
       "      <td>0.000595</td>\n",
       "      <td>0.001525</td>\n",
       "      <td>0.000000</td>\n",
       "      <td>0.004994</td>\n",
       "      <td>0.001841</td>\n",
       "      <td>0.737130</td>\n",
       "      <td>...</td>\n",
       "      <td>0.079409</td>\n",
       "      <td>0.079610</td>\n",
       "      <td>0.003579</td>\n",
       "      <td>0.115962</td>\n",
       "      <td>0.167922</td>\n",
       "      <td>0.044247</td>\n",
       "      <td>0.082331</td>\n",
       "      <td>0.396738</td>\n",
       "      <td>0.012206</td>\n",
       "      <td>4638cc8e7ee42a312ff354e4479fa64d6346aac6cfc161...</td>\n",
       "    </tr>\n",
       "    <tr>\n",
       "      <th>1</th>\n",
       "      <td>0.698930</td>\n",
       "      <td>0.014046</td>\n",
       "      <td>0.159240</td>\n",
       "      <td>0.043462</td>\n",
       "      <td>0.004799</td>\n",
       "      <td>0.076369</td>\n",
       "      <td>0.297422</td>\n",
       "      <td>0.092329</td>\n",
       "      <td>0.000000</td>\n",
       "      <td>0.793406</td>\n",
       "      <td>...</td>\n",
       "      <td>0.235897</td>\n",
       "      <td>0.043358</td>\n",
       "      <td>0.201443</td>\n",
       "      <td>0.638026</td>\n",
       "      <td>0.292602</td>\n",
       "      <td>0.251155</td>\n",
       "      <td>0.012268</td>\n",
       "      <td>0.202207</td>\n",
       "      <td>0.000467</td>\n",
       "      <td>e7ad8bc1bc562f5d8c7447e4c942cebcb01676de3426a9...</td>\n",
       "    </tr>\n",
       "    <tr>\n",
       "      <th>2</th>\n",
       "      <td>0.285008</td>\n",
       "      <td>0.000000</td>\n",
       "      <td>0.184303</td>\n",
       "      <td>0.007909</td>\n",
       "      <td>0.147171</td>\n",
       "      <td>0.000000</td>\n",
       "      <td>0.040968</td>\n",
       "      <td>0.167895</td>\n",
       "      <td>0.000000</td>\n",
       "      <td>0.027510</td>\n",
       "      <td>...</td>\n",
       "      <td>0.232621</td>\n",
       "      <td>0.224468</td>\n",
       "      <td>0.049795</td>\n",
       "      <td>0.002407</td>\n",
       "      <td>0.113010</td>\n",
       "      <td>0.001184</td>\n",
       "      <td>0.012693</td>\n",
       "      <td>0.410911</td>\n",
       "      <td>0.000000</td>\n",
       "      <td>3e8d73bed377ca25264d3280655eea3d639b9e5cb5cca5...</td>\n",
       "    </tr>\n",
       "    <tr>\n",
       "      <th>3</th>\n",
       "      <td>0.115945</td>\n",
       "      <td>0.000000</td>\n",
       "      <td>0.024348</td>\n",
       "      <td>0.037328</td>\n",
       "      <td>0.179821</td>\n",
       "      <td>0.032128</td>\n",
       "      <td>0.221087</td>\n",
       "      <td>0.012412</td>\n",
       "      <td>0.000000</td>\n",
       "      <td>0.141182</td>\n",
       "      <td>...</td>\n",
       "      <td>0.332536</td>\n",
       "      <td>0.364528</td>\n",
       "      <td>0.003002</td>\n",
       "      <td>0.015315</td>\n",
       "      <td>0.186513</td>\n",
       "      <td>0.010850</td>\n",
       "      <td>0.021745</td>\n",
       "      <td>0.440743</td>\n",
       "      <td>0.000000</td>\n",
       "      <td>51368d01802656883caf4d73aa51d2d2c571f705051001...</td>\n",
       "    </tr>\n",
       "    <tr>\n",
       "      <th>4</th>\n",
       "      <td>0.443429</td>\n",
       "      <td>0.000000</td>\n",
       "      <td>0.039570</td>\n",
       "      <td>0.048811</td>\n",
       "      <td>0.018480</td>\n",
       "      <td>0.000056</td>\n",
       "      <td>0.006541</td>\n",
       "      <td>0.288026</td>\n",
       "      <td>0.000000</td>\n",
       "      <td>0.027594</td>\n",
       "      <td>...</td>\n",
       "      <td>0.327511</td>\n",
       "      <td>0.092037</td>\n",
       "      <td>0.032815</td>\n",
       "      <td>0.035529</td>\n",
       "      <td>0.052497</td>\n",
       "      <td>0.701570</td>\n",
       "      <td>0.000000</td>\n",
       "      <td>0.469526</td>\n",
       "      <td>0.000000</td>\n",
       "      <td>32254d27ae5794696232b6c8d92b34eb5d5131eb7f99b1...</td>\n",
       "    </tr>\n",
       "  </tbody>\n",
       "</table>\n",
       "<p>5 rows × 513 columns</p>\n",
       "</div>"
      ],
      "text/plain": [
       "          0         1         2         3         4         5         6  \\\n",
       "0  0.300611  0.000261  0.352446  0.190885  0.000595  0.001525  0.000000   \n",
       "1  0.698930  0.014046  0.159240  0.043462  0.004799  0.076369  0.297422   \n",
       "2  0.285008  0.000000  0.184303  0.007909  0.147171  0.000000  0.040968   \n",
       "3  0.115945  0.000000  0.024348  0.037328  0.179821  0.032128  0.221087   \n",
       "4  0.443429  0.000000  0.039570  0.048811  0.018480  0.000056  0.006541   \n",
       "\n",
       "          7         8         9  \\\n",
       "0  0.004994  0.001841  0.737130   \n",
       "1  0.092329  0.000000  0.793406   \n",
       "2  0.167895  0.000000  0.027510   \n",
       "3  0.012412  0.000000  0.141182   \n",
       "4  0.288026  0.000000  0.027594   \n",
       "\n",
       "                         ...                               503       504  \\\n",
       "0                        ...                          0.079409  0.079610   \n",
       "1                        ...                          0.235897  0.043358   \n",
       "2                        ...                          0.232621  0.224468   \n",
       "3                        ...                          0.332536  0.364528   \n",
       "4                        ...                          0.327511  0.092037   \n",
       "\n",
       "        505       506       507       508       509       510       511  \\\n",
       "0  0.003579  0.115962  0.167922  0.044247  0.082331  0.396738  0.012206   \n",
       "1  0.201443  0.638026  0.292602  0.251155  0.012268  0.202207  0.000467   \n",
       "2  0.049795  0.002407  0.113010  0.001184  0.012693  0.410911  0.000000   \n",
       "3  0.003002  0.015315  0.186513  0.010850  0.021745  0.440743  0.000000   \n",
       "4  0.032815  0.035529  0.052497  0.701570  0.000000  0.469526  0.000000   \n",
       "\n",
       "                                               image  \n",
       "0  4638cc8e7ee42a312ff354e4479fa64d6346aac6cfc161...  \n",
       "1  e7ad8bc1bc562f5d8c7447e4c942cebcb01676de3426a9...  \n",
       "2  3e8d73bed377ca25264d3280655eea3d639b9e5cb5cca5...  \n",
       "3  51368d01802656883caf4d73aa51d2d2c571f705051001...  \n",
       "4  32254d27ae5794696232b6c8d92b34eb5d5131eb7f99b1...  \n",
       "\n",
       "[5 rows x 513 columns]"
      ]
     },
     "execution_count": 10,
     "metadata": {},
     "output_type": "execute_result"
    }
   ],
   "source": [
    "batches.head()"
   ]
  },
  {
   "cell_type": "code",
   "execution_count": 11,
   "metadata": {},
   "outputs": [],
   "source": [
    "from zipfile import ZipFile"
   ]
  },
  {
   "cell_type": "code",
   "execution_count": 12,
   "metadata": {},
   "outputs": [],
   "source": [
    "with ZipFile('../data/test.csv.zip') as z:\n",
    "    with z.open('test.csv') as f:\n",
    "        test_df = pd.read_csv(f)"
   ]
  },
  {
   "cell_type": "code",
   "execution_count": 13,
   "metadata": {},
   "outputs": [],
   "source": [
    "vggtest = pd.merge(test_df, batches, 'left', on='image', copy=False, sort=False)\n",
    "vggtest = vggtest[list(range(512))]\n",
    "vggtest.fillna(0, inplace=True)"
   ]
  },
  {
   "cell_type": "code",
   "execution_count": 15,
   "metadata": {},
   "outputs": [],
   "source": [
    "del test_df"
   ]
  },
  {
   "cell_type": "code",
   "execution_count": 18,
   "metadata": {},
   "outputs": [],
   "source": [
    "vggtest = vggtest.as_matrix()"
   ]
  },
  {
   "cell_type": "code",
   "execution_count": 19,
   "metadata": {},
   "outputs": [
    {
     "data": {
      "text/plain": [
       "65"
      ]
     },
     "execution_count": 19,
     "metadata": {},
     "output_type": "execute_result"
    }
   ],
   "source": [
    "import gc\n",
    "gc.collect()"
   ]
  },
  {
   "cell_type": "code",
   "execution_count": 20,
   "metadata": {},
   "outputs": [],
   "source": [
    "from scipy import sparse"
   ]
  },
  {
   "cell_type": "code",
   "execution_count": 21,
   "metadata": {},
   "outputs": [],
   "source": [
    "vggtest = sparse.csr_matrix(vggtest)"
   ]
  },
  {
   "cell_type": "code",
   "execution_count": 23,
   "metadata": {},
   "outputs": [
    {
     "data": {
      "text/plain": [
       "(508438, 512)"
      ]
     },
     "execution_count": 23,
     "metadata": {},
     "output_type": "execute_result"
    }
   ],
   "source": [
    "vggtest.shape"
   ]
  },
  {
   "cell_type": "code",
   "execution_count": 25,
   "metadata": {},
   "outputs": [],
   "source": [
    "sparse.save_npz('./img_features/test/vgg16_512.npz', vggtest)"
   ]
  },
  {
   "cell_type": "code",
   "execution_count": null,
   "metadata": {},
   "outputs": [],
   "source": []
  }
 ],
 "metadata": {
  "kernelspec": {
   "display_name": "Python 3",
   "language": "python",
   "name": "python3"
  },
  "language_info": {
   "codemirror_mode": {
    "name": "ipython",
    "version": 3
   },
   "file_extension": ".py",
   "mimetype": "text/x-python",
   "name": "python",
   "nbconvert_exporter": "python",
   "pygments_lexer": "ipython3",
   "version": "3.6.1"
  }
 },
 "nbformat": 4,
 "nbformat_minor": 2
}
