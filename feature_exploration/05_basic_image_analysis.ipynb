{
 "cells": [
  {
   "cell_type": "code",
   "execution_count": 1,
   "metadata": {},
   "outputs": [],
   "source": [
    "import os\n",
    "import pandas as pd\n",
    "import numpy as np\n",
    "import PIL\n",
    "import pickle\n",
    "from zipfile import ZipFile\n",
    "import seaborn as sb\n",
    "import matplotlib.pyplot as plt\n",
    "%matplotlib inline"
   ]
  },
  {
   "cell_type": "code",
   "execution_count": 2,
   "metadata": {},
   "outputs": [
    {
     "name": "stderr",
     "output_type": "stream",
     "text": [
      "C:\\Data\\Soft\\Anaconda3\\lib\\site-packages\\h5py\\__init__.py:34: FutureWarning: Conversion of the second argument of issubdtype from `float` to `np.floating` is deprecated. In future, it will be treated as `np.float64 == np.dtype(float).type`.\n",
      "  from ._conv import register_converters as _register_converters\n",
      "Using TensorFlow backend.\n"
     ]
    }
   ],
   "source": [
    "import keras\n",
    "from keras.applications.vgg16 import preprocess_input"
   ]
  },
  {
   "cell_type": "code",
   "execution_count": 3,
   "metadata": {},
   "outputs": [],
   "source": [
    "vgg = keras.applications.VGG16(include_top=False, pooling='avg')"
   ]
  },
  {
   "cell_type": "code",
   "execution_count": 9,
   "metadata": {},
   "outputs": [],
   "source": [
    "def PIL2array(img):\n",
    "    return np.array(img.getdata(),\n",
    "                    np.float32).reshape(img.size[1], img.size[0], 3)"
   ]
  },
  {
   "cell_type": "code",
   "execution_count": 5,
   "metadata": {},
   "outputs": [],
   "source": [
    "z = ZipFile('../data/train_jpg.zip')"
   ]
  },
  {
   "cell_type": "code",
   "execution_count": 6,
   "metadata": {},
   "outputs": [],
   "source": [
    "from tqdm import tqdm\n",
    "import pickle"
   ]
  },
  {
   "cell_type": "code",
   "execution_count": 7,
   "metadata": {},
   "outputs": [],
   "source": [
    "def image_batch_to_feature_batch(batch, batch_no):\n",
    "    batch = np.array(batch)\n",
    "    features = vgg.predict(batch)\n",
    "    with open('./img_features/{}.pkl'.format(batch_no), 'wb') as f:\n",
    "        pickle.dump(features, f)\n",
    "        "
   ]
  },
  {
   "cell_type": "code",
   "execution_count": null,
   "metadata": {},
   "outputs": [],
   "source": []
  },
  {
   "cell_type": "code",
   "execution_count": 11,
   "metadata": {},
   "outputs": [
    {
     "name": "stderr",
     "output_type": "stream",
     "text": [
      "  0%|                                                                         | 748/1390837 [00:36<20:26:46, 18.89it/s]"
     ]
    },
    {
     "ename": "KeyboardInterrupt",
     "evalue": "",
     "output_type": "error",
     "traceback": [
      "\u001b[1;31m---------------------------------------------------------------------------\u001b[0m",
      "\u001b[1;31mKeyboardInterrupt\u001b[0m                         Traceback (most recent call last)",
      "\u001b[1;32m<ipython-input-11-d551866be992>\u001b[0m in \u001b[0;36m<module>\u001b[1;34m()\u001b[0m\n\u001b[0;32m     14\u001b[0m \u001b[1;33m\u001b[0m\u001b[0m\n\u001b[0;32m     15\u001b[0m     \u001b[0mimg\u001b[0m \u001b[1;33m=\u001b[0m \u001b[0mimg\u001b[0m\u001b[1;33m.\u001b[0m\u001b[0mresize\u001b[0m\u001b[1;33m(\u001b[0m\u001b[1;33m(\u001b[0m\u001b[1;36m224\u001b[0m\u001b[1;33m,\u001b[0m \u001b[1;36m224\u001b[0m\u001b[1;33m)\u001b[0m\u001b[1;33m)\u001b[0m\u001b[1;33m\u001b[0m\u001b[0m\n\u001b[1;32m---> 16\u001b[1;33m     \u001b[0mimg\u001b[0m \u001b[1;33m=\u001b[0m \u001b[0mPIL2array\u001b[0m\u001b[1;33m(\u001b[0m\u001b[0mimg\u001b[0m\u001b[1;33m)\u001b[0m\u001b[1;33m\u001b[0m\u001b[0m\n\u001b[0m\u001b[0;32m     17\u001b[0m     \u001b[0mimg\u001b[0m \u001b[1;33m=\u001b[0m \u001b[0mpreprocess_input\u001b[0m\u001b[1;33m(\u001b[0m\u001b[0mimg\u001b[0m\u001b[1;33m,\u001b[0m \u001b[0mmode\u001b[0m\u001b[1;33m=\u001b[0m\u001b[1;34m'tf'\u001b[0m\u001b[1;33m)\u001b[0m\u001b[1;33m\u001b[0m\u001b[0m\n\u001b[0;32m     18\u001b[0m     \u001b[0mbatch\u001b[0m\u001b[1;33m.\u001b[0m\u001b[0mappend\u001b[0m\u001b[1;33m(\u001b[0m\u001b[0mimg\u001b[0m\u001b[1;33m)\u001b[0m\u001b[1;33m\u001b[0m\u001b[0m\n",
      "\u001b[1;32m<ipython-input-9-a089c6e53738>\u001b[0m in \u001b[0;36mPIL2array\u001b[1;34m(img)\u001b[0m\n\u001b[0;32m      1\u001b[0m \u001b[1;32mdef\u001b[0m \u001b[0mPIL2array\u001b[0m\u001b[1;33m(\u001b[0m\u001b[0mimg\u001b[0m\u001b[1;33m)\u001b[0m\u001b[1;33m:\u001b[0m\u001b[1;33m\u001b[0m\u001b[0m\n\u001b[0;32m      2\u001b[0m     return np.array(img.getdata(),\n\u001b[1;32m----> 3\u001b[1;33m                     np.float32).reshape(img.size[1], img.size[0], 3)\n\u001b[0m",
      "\u001b[1;31mKeyboardInterrupt\u001b[0m: "
     ]
    }
   ],
   "source": [
    "batch_size = 1000\n",
    "batch = []\n",
    "k = 0\n",
    "for name in tqdm(z.namelist()):\n",
    "    if not name.endswith('.jpg'):\n",
    "        continue\n",
    "    h = os.path.basename(name)[:-4]\n",
    "    try:\n",
    "        img = PIL.Image.open(z.open(name))\n",
    "    except:\n",
    "        continue\n",
    "    \n",
    "    #sizes.append(img.size)\n",
    "    \n",
    "    img = img.resize((224, 224))\n",
    "    img = PIL2array(img)\n",
    "    img = preprocess_input(img, mode='tf')\n",
    "    batch.append(img)\n",
    "    k += 1\n",
    "    if k == batch_size:\n",
    "        #image_batch_to_feature_batch(batch, batch_no)\n",
    "        \n",
    "        #p.apply_async(image_batch_to_feature_batch, args=(batch, batch_no))\n",
    "        #batch_no += 1\n",
    "        #k = 0\n",
    "        break"
   ]
  },
  {
   "cell_type": "code",
   "execution_count": 15,
   "metadata": {},
   "outputs": [
    {
     "data": {
      "text/plain": [
       "array([[[ 0.39607847,  0.5372549 ,  0.34901965],\n",
       "        [ 0.41176474,  0.5529412 ,  0.3803922 ],\n",
       "        [ 0.4431373 ,  0.56078434,  0.39607847],\n",
       "        ...,\n",
       "        [ 0.2941177 ,  0.41176474,  0.38823533],\n",
       "        [ 0.35686278,  0.43529415,  0.37254906],\n",
       "        [ 0.427451  ,  0.5058824 ,  0.4431373 ]],\n",
       "\n",
       "       [[ 0.27843142,  0.39607847,  0.24705887],\n",
       "        [ 0.30980396,  0.427451  ,  0.27843142],\n",
       "        [ 0.33333337,  0.4431373 ,  0.30980396],\n",
       "        ...,\n",
       "        [ 0.27843142,  0.4039216 ,  0.20000005],\n",
       "        [ 0.34901965,  0.427451  ,  0.2313726 ],\n",
       "        [ 0.36470592,  0.4431373 ,  0.24705887]],\n",
       "\n",
       "       [[ 0.3411765 ,  0.43529415,  0.32549024],\n",
       "        [ 0.36470592,  0.45882356,  0.36470592],\n",
       "        [ 0.3803922 ,  0.45882356,  0.37254906],\n",
       "        ...,\n",
       "        [ 0.37254906,  0.45882356,  0.19215691],\n",
       "        [ 0.41176474,  0.48235297,  0.254902  ],\n",
       "        [ 0.37254906,  0.4431373 ,  0.21568632]],\n",
       "\n",
       "       ...,\n",
       "\n",
       "       [[ 0.14509809, -0.19999999, -0.77254903],\n",
       "        [ 0.13725495, -0.20784312, -0.7647059 ],\n",
       "        [ 0.15294123, -0.19999999, -0.73333335],\n",
       "        ...,\n",
       "        [ 0.18431377, -0.16862744, -0.6784314 ],\n",
       "        [ 0.22352946, -0.15294117, -0.6392157 ],\n",
       "        [ 0.20784318, -0.16862744, -0.654902  ]],\n",
       "\n",
       "       [[ 0.18431377, -0.18431371, -0.7490196 ],\n",
       "        [ 0.1686275 , -0.19999999, -0.7490196 ],\n",
       "        [ 0.1686275 , -0.19999999, -0.73333335],\n",
       "        ...,\n",
       "        [ 0.14509809, -0.23137254, -0.73333335],\n",
       "        [ 0.13725495, -0.25490195, -0.7176471 ],\n",
       "        [ 0.12156868, -0.27058822, -0.73333335]],\n",
       "\n",
       "       [[ 0.14509809, -0.2235294 , -0.7882353 ],\n",
       "        [ 0.17647064, -0.20784312, -0.7490196 ],\n",
       "        [ 0.16078436, -0.2235294 , -0.7490196 ],\n",
       "        ...,\n",
       "        [ 0.09803927, -0.29411763, -0.77254903],\n",
       "        [ 0.13725495, -0.27058822, -0.7254902 ],\n",
       "        [ 0.10588241, -0.30196077, -0.75686276]]], dtype=float32)"
      ]
     },
     "execution_count": 15,
     "metadata": {},
     "output_type": "execute_result"
    }
   ],
   "source": [
    "batch[0]"
   ]
  },
  {
   "cell_type": "code",
   "execution_count": null,
   "metadata": {},
   "outputs": [],
   "source": []
  },
  {
   "cell_type": "code",
   "execution_count": null,
   "metadata": {},
   "outputs": [],
   "source": []
  },
  {
   "cell_type": "code",
   "execution_count": null,
   "metadata": {},
   "outputs": [],
   "source": [
    "from multiprocessing.pool import Pool"
   ]
  },
  {
   "cell_type": "code",
   "execution_count": null,
   "metadata": {},
   "outputs": [],
   "source": [
    "sizes = []\n",
    "\n",
    "batch_size = 1000\n",
    "batch_no = 1\n",
    "k = 0\n",
    "\n",
    "batch = []\n",
    "\n",
    "p = Pool(processes=4)\n",
    "\n",
    "for name in tqdm_notebook(z.namelist()):\n",
    "    if not name.endswith('.jpg'):\n",
    "        continue\n",
    "    h = os.path.basename(name)[:-4]\n",
    "    try:\n",
    "        img = PIL.Image.open(z.open(name))\n",
    "    except:\n",
    "        continue\n",
    "    \n",
    "    sizes.append(img.size)\n",
    "    img = img.resize((224, 224))\n",
    "    batch.append(PIL2array(img))\n",
    "    k += 1\n",
    "    if k == batch_size:\n",
    "        #image_batch_to_feature_batch(batch, batch_no)\n",
    "        \n",
    "        p.apply_async(image_batch_to_feature_batch, args=(batch, batch_no))\n",
    "        batch_no += 1\n",
    "        k = 0"
   ]
  },
  {
   "cell_type": "code",
   "execution_count": null,
   "metadata": {},
   "outputs": [],
   "source": [
    "Pool()"
   ]
  },
  {
   "cell_type": "code",
   "execution_count": null,
   "metadata": {},
   "outputs": [],
   "source": [
    "data[2]"
   ]
  },
  {
   "cell_type": "code",
   "execution_count": null,
   "metadata": {},
   "outputs": [],
   "source": [
    "np.mean(data, axis=0)\n",
    "np.std(data, axis=0)"
   ]
  },
  {
   "cell_type": "code",
   "execution_count": null,
   "metadata": {},
   "outputs": [],
   "source": [
    "keras"
   ]
  }
 ],
 "metadata": {
  "kernelspec": {
   "display_name": "Python 3",
   "language": "python",
   "name": "python3"
  },
  "language_info": {
   "codemirror_mode": {
    "name": "ipython",
    "version": 3
   },
   "file_extension": ".py",
   "mimetype": "text/x-python",
   "name": "python",
   "nbconvert_exporter": "python",
   "pygments_lexer": "ipython3",
   "version": "3.6.1"
  }
 },
 "nbformat": 4,
 "nbformat_minor": 2
}
