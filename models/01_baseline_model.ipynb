{
 "cells": [
  {
   "cell_type": "code",
   "execution_count": 1,
   "metadata": {},
   "outputs": [],
   "source": [
    "import pandas as pd\n",
    "import numpy as np\n",
    "from zipfile import ZipFile\n",
    "import matplotlib.pyplot as plt\n",
    "%matplotlib inline\n"
   ]
  },
  {
   "cell_type": "code",
   "execution_count": 2,
   "metadata": {},
   "outputs": [],
   "source": [
    "with ZipFile('../data/train.csv.zip') as z:\n",
    "    with z.open('train.csv') as f:\n",
    "        train_df = pd.read_csv(f)"
   ]
  },
  {
   "cell_type": "code",
   "execution_count": 3,
   "metadata": {},
   "outputs": [],
   "source": [
    "with ZipFile('../data/test.csv.zip') as z:\n",
    "    with z.open('test.csv') as f:\n",
    "        test_df = pd.read_csv(f)"
   ]
  },
  {
   "cell_type": "markdown",
   "metadata": {},
   "source": [
    "# Description\n",
    "\n",
    "Baseline model on small subset of parameters to check submission process, training time, prediction time, predictive value of raw features"
   ]
  },
  {
   "cell_type": "code",
   "execution_count": 6,
   "metadata": {},
   "outputs": [],
   "source": [
    "from catboost import CatBoostRegressor"
   ]
  },
  {
   "cell_type": "code",
   "execution_count": 111,
   "metadata": {},
   "outputs": [],
   "source": [
    "features = ['region', 'city', 'parent_category_name', 'category_name', 'price', 'item_seq_number', 'user_type', 'image_top_1']\n",
    "categorical = [0, 1, 2, 3, 6]\n",
    "target = ['deal_probability']"
   ]
  },
  {
   "cell_type": "code",
   "execution_count": 112,
   "metadata": {},
   "outputs": [],
   "source": [
    "X = train_df[features]\n",
    "y = train_df[target]"
   ]
  },
  {
   "cell_type": "code",
   "execution_count": 17,
   "metadata": {},
   "outputs": [],
   "source": [
    "from sklearn.model_selection import train_test_split"
   ]
  },
  {
   "cell_type": "code",
   "execution_count": 18,
   "metadata": {},
   "outputs": [],
   "source": [
    "X_train, X_test, y_train, y_test = train_test_split(X, y)"
   ]
  },
  {
   "cell_type": "code",
   "execution_count": 19,
   "metadata": {},
   "outputs": [],
   "source": [
    "cb = CatBoostRegressor(loss_function='RMSE', verbose=10)"
   ]
  },
  {
   "cell_type": "code",
   "execution_count": 20,
   "metadata": {},
   "outputs": [
    {
     "name": "stdout",
     "output_type": "stream",
     "text": [
      "0:\tlearn: 0.2920397\ttotal: 984ms\tremaining: 16m 23s\n",
      "10:\tlearn: 0.2702017\ttotal: 8.45s\tremaining: 12m 39s\n",
      "20:\tlearn: 0.2573675\ttotal: 18.6s\tremaining: 14m 28s\n",
      "30:\tlearn: 0.2498382\ttotal: 29s\tremaining: 15m 5s\n",
      "40:\tlearn: 0.2453050\ttotal: 37.8s\tremaining: 14m 43s\n",
      "50:\tlearn: 0.2426673\ttotal: 45.6s\tremaining: 14m 8s\n",
      "60:\tlearn: 0.2410699\ttotal: 54.3s\tremaining: 13m 55s\n",
      "70:\tlearn: 0.2401033\ttotal: 1m 2s\tremaining: 13m 41s\n",
      "80:\tlearn: 0.2393843\ttotal: 1m 12s\tremaining: 13m 37s\n",
      "90:\tlearn: 0.2388634\ttotal: 1m 21s\tremaining: 13m 37s\n",
      "100:\tlearn: 0.2384998\ttotal: 1m 31s\tremaining: 13m 33s\n",
      "110:\tlearn: 0.2382215\ttotal: 1m 40s\tremaining: 13m 25s\n",
      "120:\tlearn: 0.2379881\ttotal: 1m 51s\tremaining: 13m 33s\n",
      "130:\tlearn: 0.2378014\ttotal: 2m 1s\tremaining: 13m 23s\n",
      "140:\tlearn: 0.2376563\ttotal: 2m 11s\tremaining: 13m 19s\n",
      "150:\tlearn: 0.2375254\ttotal: 2m 19s\tremaining: 13m 5s\n",
      "160:\tlearn: 0.2373957\ttotal: 2m 28s\tremaining: 12m 53s\n",
      "170:\tlearn: 0.2372583\ttotal: 2m 36s\tremaining: 12m 39s\n",
      "180:\tlearn: 0.2371357\ttotal: 2m 45s\tremaining: 12m 28s\n",
      "190:\tlearn: 0.2370088\ttotal: 2m 54s\tremaining: 12m 17s\n",
      "200:\tlearn: 0.2368738\ttotal: 3m 3s\tremaining: 12m 9s\n",
      "210:\tlearn: 0.2367537\ttotal: 3m 12s\tremaining: 11m 58s\n",
      "220:\tlearn: 0.2366776\ttotal: 3m 20s\tremaining: 11m 47s\n",
      "230:\tlearn: 0.2365680\ttotal: 3m 30s\tremaining: 11m 39s\n",
      "240:\tlearn: 0.2364508\ttotal: 3m 40s\tremaining: 11m 35s\n",
      "250:\tlearn: 0.2363662\ttotal: 3m 52s\tremaining: 11m 34s\n",
      "260:\tlearn: 0.2362423\ttotal: 4m 3s\tremaining: 11m 29s\n",
      "270:\tlearn: 0.2361197\ttotal: 4m 14s\tremaining: 11m 24s\n",
      "280:\tlearn: 0.2359873\ttotal: 4m 25s\tremaining: 11m 19s\n",
      "290:\tlearn: 0.2359113\ttotal: 4m 35s\tremaining: 11m 11s\n",
      "300:\tlearn: 0.2358041\ttotal: 4m 45s\tremaining: 11m 2s\n",
      "310:\tlearn: 0.2357010\ttotal: 4m 56s\tremaining: 10m 56s\n",
      "320:\tlearn: 0.2356271\ttotal: 5m 5s\tremaining: 10m 46s\n",
      "330:\tlearn: 0.2355561\ttotal: 5m 15s\tremaining: 10m 37s\n",
      "340:\tlearn: 0.2354567\ttotal: 5m 26s\tremaining: 10m 31s\n",
      "350:\tlearn: 0.2353510\ttotal: 5m 37s\tremaining: 10m 23s\n",
      "360:\tlearn: 0.2352864\ttotal: 5m 47s\tremaining: 10m 14s\n",
      "370:\tlearn: 0.2352007\ttotal: 5m 58s\tremaining: 10m 7s\n",
      "380:\tlearn: 0.2351389\ttotal: 6m 8s\tremaining: 9m 58s\n",
      "390:\tlearn: 0.2350829\ttotal: 6m 18s\tremaining: 9m 49s\n",
      "400:\tlearn: 0.2350053\ttotal: 6m 27s\tremaining: 9m 39s\n",
      "410:\tlearn: 0.2349457\ttotal: 6m 37s\tremaining: 9m 30s\n",
      "420:\tlearn: 0.2348806\ttotal: 6m 49s\tremaining: 9m 23s\n",
      "430:\tlearn: 0.2348262\ttotal: 7m\tremaining: 9m 15s\n",
      "440:\tlearn: 0.2347776\ttotal: 7m 11s\tremaining: 9m 7s\n",
      "450:\tlearn: 0.2347159\ttotal: 7m 22s\tremaining: 8m 58s\n",
      "460:\tlearn: 0.2346629\ttotal: 7m 32s\tremaining: 8m 48s\n",
      "470:\tlearn: 0.2346076\ttotal: 7m 42s\tremaining: 8m 39s\n",
      "480:\tlearn: 0.2345565\ttotal: 7m 52s\tremaining: 8m 30s\n",
      "490:\tlearn: 0.2345007\ttotal: 8m 3s\tremaining: 8m 21s\n",
      "500:\tlearn: 0.2344454\ttotal: 8m 14s\tremaining: 8m 12s\n",
      "510:\tlearn: 0.2343891\ttotal: 8m 24s\tremaining: 8m 3s\n",
      "520:\tlearn: 0.2343463\ttotal: 8m 34s\tremaining: 7m 53s\n",
      "530:\tlearn: 0.2343025\ttotal: 8m 45s\tremaining: 7m 44s\n",
      "540:\tlearn: 0.2342523\ttotal: 8m 56s\tremaining: 7m 35s\n",
      "550:\tlearn: 0.2342200\ttotal: 9m 6s\tremaining: 7m 25s\n",
      "560:\tlearn: 0.2341883\ttotal: 9m 16s\tremaining: 7m 15s\n",
      "570:\tlearn: 0.2341510\ttotal: 9m 28s\tremaining: 7m 6s\n",
      "580:\tlearn: 0.2341087\ttotal: 9m 38s\tremaining: 6m 57s\n",
      "590:\tlearn: 0.2340825\ttotal: 9m 49s\tremaining: 6m 48s\n",
      "600:\tlearn: 0.2340405\ttotal: 9m 59s\tremaining: 6m 38s\n",
      "610:\tlearn: 0.2340010\ttotal: 10m 10s\tremaining: 6m 28s\n",
      "620:\tlearn: 0.2339638\ttotal: 10m 20s\tremaining: 6m 18s\n",
      "630:\tlearn: 0.2339268\ttotal: 10m 31s\tremaining: 6m 9s\n",
      "640:\tlearn: 0.2338967\ttotal: 10m 41s\tremaining: 5m 59s\n",
      "650:\tlearn: 0.2338720\ttotal: 10m 52s\tremaining: 5m 50s\n",
      "660:\tlearn: 0.2338339\ttotal: 11m 3s\tremaining: 5m 40s\n",
      "670:\tlearn: 0.2337927\ttotal: 11m 13s\tremaining: 5m 30s\n",
      "680:\tlearn: 0.2337662\ttotal: 11m 23s\tremaining: 5m 20s\n",
      "690:\tlearn: 0.2337344\ttotal: 11m 33s\tremaining: 5m 10s\n",
      "700:\tlearn: 0.2337020\ttotal: 11m 42s\tremaining: 4m 59s\n",
      "710:\tlearn: 0.2336770\ttotal: 11m 51s\tremaining: 4m 49s\n",
      "720:\tlearn: 0.2336561\ttotal: 12m 1s\tremaining: 4m 39s\n",
      "730:\tlearn: 0.2336266\ttotal: 12m 11s\tremaining: 4m 29s\n",
      "740:\tlearn: 0.2335896\ttotal: 12m 22s\tremaining: 4m 19s\n",
      "750:\tlearn: 0.2335582\ttotal: 12m 33s\tremaining: 4m 9s\n",
      "760:\tlearn: 0.2335293\ttotal: 12m 44s\tremaining: 4m\n",
      "770:\tlearn: 0.2335022\ttotal: 12m 53s\tremaining: 3m 49s\n",
      "780:\tlearn: 0.2334798\ttotal: 13m 2s\tremaining: 3m 39s\n",
      "790:\tlearn: 0.2334541\ttotal: 13m 10s\tremaining: 3m 28s\n",
      "800:\tlearn: 0.2334275\ttotal: 13m 19s\tremaining: 3m 18s\n",
      "810:\tlearn: 0.2334096\ttotal: 13m 27s\tremaining: 3m 8s\n",
      "820:\tlearn: 0.2333814\ttotal: 13m 36s\tremaining: 2m 57s\n",
      "830:\tlearn: 0.2333591\ttotal: 13m 44s\tremaining: 2m 47s\n",
      "840:\tlearn: 0.2333334\ttotal: 13m 53s\tremaining: 2m 37s\n",
      "850:\tlearn: 0.2333076\ttotal: 14m 2s\tremaining: 2m 27s\n",
      "860:\tlearn: 0.2332841\ttotal: 14m 10s\tremaining: 2m 17s\n",
      "870:\tlearn: 0.2332592\ttotal: 14m 19s\tremaining: 2m 7s\n",
      "880:\tlearn: 0.2332355\ttotal: 14m 28s\tremaining: 1m 57s\n",
      "890:\tlearn: 0.2332114\ttotal: 14m 36s\tremaining: 1m 47s\n",
      "900:\tlearn: 0.2331892\ttotal: 14m 45s\tremaining: 1m 37s\n",
      "910:\tlearn: 0.2331727\ttotal: 14m 54s\tremaining: 1m 27s\n",
      "920:\tlearn: 0.2331558\ttotal: 15m 2s\tremaining: 1m 17s\n",
      "930:\tlearn: 0.2331407\ttotal: 15m 10s\tremaining: 1m 7s\n",
      "940:\tlearn: 0.2331121\ttotal: 15m 19s\tremaining: 57.6s\n",
      "950:\tlearn: 0.2330874\ttotal: 15m 27s\tremaining: 47.8s\n",
      "960:\tlearn: 0.2330698\ttotal: 15m 36s\tremaining: 38s\n",
      "970:\tlearn: 0.2330352\ttotal: 15m 45s\tremaining: 28.2s\n",
      "980:\tlearn: 0.2330132\ttotal: 15m 54s\tremaining: 18.5s\n",
      "990:\tlearn: 0.2329956\ttotal: 16m 3s\tremaining: 8.75s\n"
     ]
    },
    {
     "data": {
      "text/plain": [
       "<catboost.core.CatBoostRegressor at 0x26f001a4588>"
      ]
     },
     "execution_count": 20,
     "metadata": {},
     "output_type": "execute_result"
    }
   ],
   "source": [
    "cb.fit(X_train, y_train, categorical)"
   ]
  },
  {
   "cell_type": "code",
   "execution_count": 21,
   "metadata": {},
   "outputs": [],
   "source": [
    "from sklearn.metrics import mean_squared_error"
   ]
  },
  {
   "cell_type": "code",
   "execution_count": 22,
   "metadata": {},
   "outputs": [],
   "source": [
    "pred = cb.predict(X_test)"
   ]
  },
  {
   "cell_type": "code",
   "execution_count": 23,
   "metadata": {},
   "outputs": [
    {
     "data": {
      "text/plain": [
       "0.2331558437447115"
      ]
     },
     "execution_count": 23,
     "metadata": {},
     "output_type": "execute_result"
    }
   ],
   "source": [
    "np.sqrt(mean_squared_error(y_test, pred))"
   ]
  },
  {
   "cell_type": "code",
   "execution_count": 24,
   "metadata": {},
   "outputs": [],
   "source": [
    "X_submit = test_df[features]"
   ]
  },
  {
   "cell_type": "code",
   "execution_count": 25,
   "metadata": {},
   "outputs": [],
   "source": [
    "submit_preds = cb.predict(X_submit)"
   ]
  },
  {
   "cell_type": "code",
   "execution_count": 35,
   "metadata": {},
   "outputs": [],
   "source": [
    "submission = pd.DataFrame()\n",
    "submission['item_id'] = test_df['item_id'].copy()\n",
    "submission['deal_probability'] = submit_preds"
   ]
  },
  {
   "cell_type": "code",
   "execution_count": 36,
   "metadata": {},
   "outputs": [],
   "source": [
    "submission.loc[submission['deal_probability'] < 0, 'deal_probability'] = 0"
   ]
  },
  {
   "cell_type": "code",
   "execution_count": 37,
   "metadata": {},
   "outputs": [],
   "source": [
    "submission.to_csv('baseline_submission.csv', index=False)"
   ]
  },
  {
   "cell_type": "markdown",
   "metadata": {},
   "source": [
    "**LB score: 0.2381**"
   ]
  },
  {
   "cell_type": "code",
   "execution_count": 45,
   "metadata": {},
   "outputs": [
    {
     "data": {
      "image/png": "[encoded data removed]",
      "text/plain": [
       "<matplotlib.figure.Figure at 0x26fa0910470>"
      ]
     },
     "metadata": {},
     "output_type": "display_data"
    }
   ],
   "source": [
    "y = np.arange(len(features))\n",
    "plt.barh(y, cb.feature_importances_)\n",
    "plt.yticks(y, features);"
   ]
  },
  {
   "cell_type": "code",
   "execution_count": 161,
   "metadata": {},
   "outputs": [],
   "source": [
    "from importlib import reload\n",
    "import features\n",
    "reload(features)\n",
    "from features import extract_features"
   ]
  },
  {
   "cell_type": "code",
   "execution_count": 162,
   "metadata": {},
   "outputs": [],
   "source": [
    "n, f, c = extract_features(train_df)"
   ]
  },
  {
   "cell_type": "code",
   "execution_count": 163,
   "metadata": {},
   "outputs": [],
   "source": [
    "categorical1 = np.where(c)[0]"
   ]
  },
  {
   "cell_type": "code",
   "execution_count": 164,
   "metadata": {},
   "outputs": [
    {
     "data": {
      "text/plain": [
       "array([ 0,  1,  2,  3,  4,  5,  6,  9, 10], dtype=int64)"
      ]
     },
     "execution_count": 164,
     "metadata": {},
     "output_type": "execute_result"
    }
   ],
   "source": [
    "categorical1"
   ]
  },
  {
   "cell_type": "code",
   "execution_count": 165,
   "metadata": {},
   "outputs": [],
   "source": [
    "X1 = np.vstack(f).T"
   ]
  },
  {
   "cell_type": "code",
   "execution_count": 166,
   "metadata": {},
   "outputs": [],
   "source": [
    "X_train1, X_test1, y_train1, y_test1 = train_test_split(X1, y)"
   ]
  },
  {
   "cell_type": "code",
   "execution_count": 168,
   "metadata": {},
   "outputs": [],
   "source": [
    "cb1 = CatBoostRegressor(loss_function='RMSE', verbose=10)"
   ]
  },
  {
   "cell_type": "code",
   "execution_count": 169,
   "metadata": {},
   "outputs": [
    {
     "name": "stdout",
     "output_type": "stream",
     "text": [
      "0:\tlearn: 0.2916657\ttotal: 1.48s\tremaining: 24m 34s\n",
      "10:\tlearn: 0.2687238\ttotal: 13.7s\tremaining: 20m 35s\n",
      "20:\tlearn: 0.2551426\ttotal: 24.3s\tremaining: 18m 52s\n",
      "30:\tlearn: 0.2466022\ttotal: 38.8s\tremaining: 20m 13s\n",
      "40:\tlearn: 0.2414116\ttotal: 54.4s\tremaining: 21m 13s\n",
      "50:\tlearn: 0.2382237\ttotal: 1m 10s\tremaining: 21m 55s\n",
      "60:\tlearn: 0.2361877\ttotal: 1m 26s\tremaining: 22m 16s\n",
      "70:\tlearn: 0.2349275\ttotal: 1m 49s\tremaining: 23m 48s\n",
      "80:\tlearn: 0.2341171\ttotal: 2m 7s\tremaining: 24m 9s\n",
      "90:\tlearn: 0.2335193\ttotal: 2m 25s\tremaining: 24m 15s\n",
      "100:\tlearn: 0.2330584\ttotal: 2m 43s\tremaining: 24m 14s\n",
      "110:\tlearn: 0.2326766\ttotal: 3m 3s\tremaining: 24m 26s\n",
      "120:\tlearn: 0.2323258\ttotal: 3m 24s\tremaining: 24m 46s\n",
      "130:\tlearn: 0.2320856\ttotal: 3m 46s\tremaining: 25m\n",
      "140:\tlearn: 0.2318538\ttotal: 4m 5s\tremaining: 24m 57s\n",
      "150:\tlearn: 0.2316670\ttotal: 4m 24s\tremaining: 24m 48s\n",
      "160:\tlearn: 0.2314866\ttotal: 4m 42s\tremaining: 24m 34s\n",
      "170:\tlearn: 0.2313195\ttotal: 5m\tremaining: 24m 17s\n",
      "180:\tlearn: 0.2311401\ttotal: 5m 19s\tremaining: 24m 4s\n",
      "190:\tlearn: 0.2309804\ttotal: 5m 39s\tremaining: 23m 56s\n",
      "200:\tlearn: 0.2308265\ttotal: 6m\tremaining: 23m 51s\n",
      "210:\tlearn: 0.2306835\ttotal: 6m 21s\tremaining: 23m 47s\n",
      "220:\tlearn: 0.2305497\ttotal: 6m 38s\tremaining: 23m 25s\n",
      "230:\tlearn: 0.2304369\ttotal: 6m 59s\tremaining: 23m 16s\n",
      "240:\tlearn: 0.2303366\ttotal: 7m 17s\tremaining: 22m 58s\n",
      "250:\tlearn: 0.2302409\ttotal: 7m 35s\tremaining: 22m 40s\n",
      "260:\tlearn: 0.2301121\ttotal: 7m 54s\tremaining: 22m 24s\n",
      "270:\tlearn: 0.2300091\ttotal: 8m 14s\tremaining: 22m 11s\n",
      "280:\tlearn: 0.2299034\ttotal: 8m 32s\tremaining: 21m 50s\n",
      "290:\tlearn: 0.2298171\ttotal: 8m 49s\tremaining: 21m 30s\n",
      "300:\tlearn: 0.2297299\ttotal: 9m 9s\tremaining: 21m 15s\n",
      "310:\tlearn: 0.2296493\ttotal: 9m 27s\tremaining: 20m 56s\n",
      "320:\tlearn: 0.2295690\ttotal: 9m 47s\tremaining: 20m 42s\n",
      "330:\tlearn: 0.2294903\ttotal: 10m 7s\tremaining: 20m 26s\n",
      "340:\tlearn: 0.2294044\ttotal: 10m 28s\tremaining: 20m 14s\n",
      "350:\tlearn: 0.2293386\ttotal: 10m 47s\tremaining: 19m 56s\n",
      "360:\tlearn: 0.2292651\ttotal: 11m 6s\tremaining: 19m 40s\n",
      "370:\tlearn: 0.2291940\ttotal: 11m 24s\tremaining: 19m 21s\n",
      "380:\tlearn: 0.2291203\ttotal: 11m 43s\tremaining: 19m 2s\n",
      "390:\tlearn: 0.2290490\ttotal: 12m 4s\tremaining: 18m 49s\n",
      "400:\tlearn: 0.2289918\ttotal: 12m 25s\tremaining: 18m 33s\n",
      "410:\tlearn: 0.2289339\ttotal: 12m 44s\tremaining: 18m 15s\n",
      "420:\tlearn: 0.2288833\ttotal: 13m 4s\tremaining: 17m 58s\n",
      "430:\tlearn: 0.2288364\ttotal: 13m 26s\tremaining: 17m 44s\n",
      "440:\tlearn: 0.2287853\ttotal: 13m 48s\tremaining: 17m 30s\n",
      "450:\tlearn: 0.2287371\ttotal: 14m 10s\tremaining: 17m 14s\n",
      "460:\tlearn: 0.2286836\ttotal: 14m 32s\tremaining: 17m\n",
      "470:\tlearn: 0.2286390\ttotal: 14m 58s\tremaining: 16m 49s\n",
      "480:\tlearn: 0.2285899\ttotal: 15m 20s\tremaining: 16m 33s\n",
      "490:\tlearn: 0.2285427\ttotal: 15m 42s\tremaining: 16m 16s\n",
      "500:\tlearn: 0.2285011\ttotal: 16m 3s\tremaining: 16m\n",
      "510:\tlearn: 0.2284559\ttotal: 16m 23s\tremaining: 15m 41s\n",
      "520:\tlearn: 0.2284118\ttotal: 16m 44s\tremaining: 15m 23s\n",
      "530:\tlearn: 0.2283744\ttotal: 17m 5s\tremaining: 15m 5s\n",
      "540:\tlearn: 0.2283291\ttotal: 17m 27s\tremaining: 14m 48s\n",
      "550:\tlearn: 0.2282911\ttotal: 17m 54s\tremaining: 14m 35s\n",
      "560:\tlearn: 0.2282599\ttotal: 18m 20s\tremaining: 14m 21s\n",
      "570:\tlearn: 0.2282250\ttotal: 18m 43s\tremaining: 14m 3s\n",
      "580:\tlearn: 0.2281925\ttotal: 19m 5s\tremaining: 13m 46s\n",
      "590:\tlearn: 0.2281563\ttotal: 19m 26s\tremaining: 13m 27s\n",
      "600:\tlearn: 0.2281210\ttotal: 19m 48s\tremaining: 13m 8s\n",
      "610:\tlearn: 0.2280860\ttotal: 20m 9s\tremaining: 12m 49s\n",
      "620:\tlearn: 0.2280481\ttotal: 20m 30s\tremaining: 12m 30s\n",
      "630:\tlearn: 0.2280136\ttotal: 20m 48s\tremaining: 12m 10s\n",
      "640:\tlearn: 0.2279849\ttotal: 21m 7s\tremaining: 11m 49s\n",
      "650:\tlearn: 0.2279422\ttotal: 21m 32s\tremaining: 11m 33s\n",
      "660:\tlearn: 0.2279147\ttotal: 21m 53s\tremaining: 11m 13s\n",
      "670:\tlearn: 0.2278805\ttotal: 22m 16s\tremaining: 10m 55s\n",
      "680:\tlearn: 0.2278456\ttotal: 22m 37s\tremaining: 10m 35s\n",
      "690:\tlearn: 0.2278200\ttotal: 22m 59s\tremaining: 10m 16s\n",
      "700:\tlearn: 0.2277948\ttotal: 23m 25s\tremaining: 9m 59s\n",
      "710:\tlearn: 0.2277726\ttotal: 23m 47s\tremaining: 9m 40s\n",
      "720:\tlearn: 0.2277407\ttotal: 24m 9s\tremaining: 9m 20s\n",
      "730:\tlearn: 0.2277114\ttotal: 24m 32s\tremaining: 9m 1s\n",
      "740:\tlearn: 0.2276901\ttotal: 24m 52s\tremaining: 8m 41s\n",
      "750:\tlearn: 0.2276680\ttotal: 25m 18s\tremaining: 8m 23s\n",
      "760:\tlearn: 0.2276454\ttotal: 25m 37s\tremaining: 8m 2s\n",
      "770:\tlearn: 0.2276180\ttotal: 25m 59s\tremaining: 7m 43s\n",
      "780:\tlearn: 0.2275966\ttotal: 26m 18s\tremaining: 7m 22s\n",
      "790:\tlearn: 0.2275741\ttotal: 26m 38s\tremaining: 7m 2s\n",
      "800:\tlearn: 0.2275522\ttotal: 26m 57s\tremaining: 6m 41s\n",
      "810:\tlearn: 0.2275309\ttotal: 27m 20s\tremaining: 6m 22s\n",
      "820:\tlearn: 0.2275104\ttotal: 27m 43s\tremaining: 6m 2s\n",
      "830:\tlearn: 0.2274889\ttotal: 28m 1s\tremaining: 5m 41s\n",
      "840:\tlearn: 0.2274605\ttotal: 28m 19s\tremaining: 5m 21s\n",
      "850:\tlearn: 0.2274350\ttotal: 28m 38s\tremaining: 5m\n",
      "860:\tlearn: 0.2274148\ttotal: 28m 58s\tremaining: 4m 40s\n",
      "870:\tlearn: 0.2273953\ttotal: 29m 16s\tremaining: 4m 20s\n",
      "880:\tlearn: 0.2273779\ttotal: 29m 34s\tremaining: 3m 59s\n",
      "890:\tlearn: 0.2273512\ttotal: 29m 53s\tremaining: 3m 39s\n",
      "900:\tlearn: 0.2273306\ttotal: 30m 11s\tremaining: 3m 19s\n",
      "910:\tlearn: 0.2273178\ttotal: 30m 31s\tremaining: 2m 58s\n",
      "920:\tlearn: 0.2272986\ttotal: 30m 54s\tremaining: 2m 39s\n",
      "930:\tlearn: 0.2272823\ttotal: 31m 16s\tremaining: 2m 19s\n",
      "940:\tlearn: 0.2272710\ttotal: 31m 38s\tremaining: 1m 59s\n",
      "950:\tlearn: 0.2272549\ttotal: 32m 4s\tremaining: 1m 39s\n",
      "960:\tlearn: 0.2272368\ttotal: 32m 27s\tremaining: 1m 19s\n",
      "970:\tlearn: 0.2272206\ttotal: 32m 51s\tremaining: 58.9s\n",
      "980:\tlearn: 0.2272009\ttotal: 33m 21s\tremaining: 38.8s\n",
      "990:\tlearn: 0.2271815\ttotal: 33m 49s\tremaining: 18.4s\n"
     ]
    },
    {
     "data": {
      "text/plain": [
       "<catboost.core.CatBoostRegressor at 0x26fa0b59d68>"
      ]
     },
     "execution_count": 169,
     "metadata": {},
     "output_type": "execute_result"
    }
   ],
   "source": [
    "cb1.fit(X_train1, y_train1, categorical1)"
   ]
  },
  {
   "cell_type": "code",
   "execution_count": 195,
   "metadata": {},
   "outputs": [],
   "source": [
    "pred1 = cb1.predict(smth)"
   ]
  },
  {
   "cell_type": "code",
   "execution_count": 196,
   "metadata": {},
   "outputs": [
    {
     "data": {
      "text/plain": [
       "0.2273063703831818"
      ]
     },
     "execution_count": 196,
     "metadata": {},
     "output_type": "execute_result"
    }
   ],
   "source": [
    "np.sqrt(mean_squared_error(y_test1, pred1))"
   ]
  },
  {
   "cell_type": "code",
   "execution_count": 197,
   "metadata": {},
   "outputs": [
    {
     "data": {
      "image/png": "[encoded data removed]",
      "text/plain": [
       "<matplotlib.figure.Figure at 0x26fea9d6240>"
      ]
     },
     "metadata": {},
     "output_type": "display_data"
    }
   ],
   "source": [
    "y = np.arange(len(n))\n",
    "plt.barh(y, cb1.feature_importances_)\n",
    "plt.yticks(y, n);"
   ]
  },
  {
   "cell_type": "code",
   "execution_count": 200,
   "metadata": {},
   "outputs": [],
   "source": [
    "n_t, f_t, c_t = extract_features(test_df)"
   ]
  },
  {
   "cell_type": "code",
   "execution_count": 206,
   "metadata": {},
   "outputs": [],
   "source": [
    "X_submit1 = np.vstack(f_t).T"
   ]
  },
  {
   "cell_type": "code",
   "execution_count": 207,
   "metadata": {},
   "outputs": [],
   "source": [
    "submit_preds1 = cb1.predict(X_submit1)"
   ]
  },
  {
   "cell_type": "code",
   "execution_count": 208,
   "metadata": {},
   "outputs": [
    {
     "data": {
      "text/plain": [
       "(508438,)"
      ]
     },
     "execution_count": 208,
     "metadata": {},
     "output_type": "execute_result"
    }
   ],
   "source": [
    "submit_preds1.shape"
   ]
  },
  {
   "cell_type": "code",
   "execution_count": 209,
   "metadata": {},
   "outputs": [],
   "source": [
    "submission1 = pd.DataFrame()\n",
    "submission1['item_id'] = test_df['item_id'].copy()\n",
    "submission1['deal_probability'] = submit_preds1"
   ]
  },
  {
   "cell_type": "code",
   "execution_count": 210,
   "metadata": {},
   "outputs": [],
   "source": [
    "submission1.loc[submission1['deal_probability'] < 0, 'deal_probability'] = 0"
   ]
  },
  {
   "cell_type": "code",
   "execution_count": 211,
   "metadata": {},
   "outputs": [],
   "source": [
    "submission1.to_csv('baseline_submission1.csv', index=False)"
   ]
  },
  {
   "cell_type": "code",
   "execution_count": null,
   "metadata": {},
   "outputs": [],
   "source": []
  }
 ],
 "metadata": {
  "kernelspec": {
   "display_name": "Python 3",
   "language": "python",
   "name": "python3"
  },
  "language_info": {
   "codemirror_mode": {
    "name": "ipython",
    "version": 3
   },
   "file_extension": ".py",
   "mimetype": "text/x-python",
   "name": "python",
   "nbconvert_exporter": "python",
   "pygments_lexer": "ipython3",
   "version": "3.6.1"
  }
 },
 "nbformat": 4,
 "nbformat_minor": 2
}
